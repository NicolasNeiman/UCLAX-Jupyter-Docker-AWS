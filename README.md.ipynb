{
 "cells": [
  {
   "cell_type": "markdown",
   "metadata": {},
   "source": [
    "# Project 1: The Data Science Toolkit\n",
    "\n",
    "The goal of this first project is to set up a jupyter notebook.  \n",
    "A jupyter notebook is a web application where you can run `python` / `r` code but also save notebooks for later.  \n",
    "The notebook is going to be running in a docker container hosted on an EC2 instance.  \n",
    "\n",
    "## Table of Contents\n",
    "1. [Create ssh keys](#part1)\n",
    "2. [Create an EC2 instance](#part2)\n",
    "3. [Install Docker on you EC2 instance](#part3)\n",
    "4. [Install Jupiter to run on Docker](#part4)\n",
    "5. [Launch Jupyter](#part5)\n",
    "6. [Access you Jupiter notebook from a browser](#part6)\n",
    "\n"
   ]
  },
  {
   "cell_type": "markdown",
   "metadata": {},
   "source": [
    "## Create ssh keys <a name=\"part1\"></a>\n",
    "\n",
    "In order to connect to the EC2 instance we will be building at step 2 we first need to create a pair of private / public ssh keys which we will load into the list of autorized autorized keys on the EC2 instance\n",
    "\n",
    "In your laptop terminal : `ssh-keygen`  \n",
    "You don't need to provide a file to add it and a password"
   ]
  },
  {
   "cell_type": "markdown",
   "metadata": {},
   "source": [
    "## Create an EC2 instance <a name=\"part2\"></a>\n",
    "\n",
    "Go to [Amazon AWS](https://aws.amazon.com/) and create an account\n",
    "\n",
    "1. Go to [EC2](5https://us-west-2.console.aws.amazon.com/ec2/v2/home?region=us-west-2)\n",
    "2. Configure security groups:\n",
    "    + Open ports 22 (SSH) 80, 8888, \n",
    "    + The group should look like this screenshot : ![](EC2-SecurityGroups.jpeg)\n",
    "3. Configure your instance:\n",
    "    + Choose Ubuntu ![](EC2AMISelection.png)\n",
    "    + Choose t2;micro\n",
    "    + The rest of the configuration is straight forward untill you launch the instance\n",
    "    + Add you ssh public key : \n",
    "        + In your terminal : \n",
    "        `cd ./ssh`  and `cat id_rsa.pub`  \n",
    "        + copy the output\n",
    "4. Launch and retrieve to public ip adress\n",
    "\n",
    "    \n",
    "        "
   ]
  },
  {
   "cell_type": "markdown",
   "metadata": {},
   "source": [
    "## Install Docker on you EC2 instance <a name=\"part3\"></a>\n",
    "\n",
    "Connect to your EC2 instance : `ssh ubuntu@myEC2instanceIP`\n",
    "\n",
    "The prompt should now like this : `ubuntu@ip-172-31-17-108:~$`\n",
    "\n",
    "Install using : `curl -sSL https://get.docker.com | sh`\n"
   ]
  },
  {
   "cell_type": "markdown",
   "metadata": {},
   "source": [
    "## Install Jupiter to run on Docker <a name=\"part4\"></a>\n",
    "As said in the introduction, we are not running Jupyter from our EC2 instance but from a Docker container hosted on our EC2 instance. This is going to make Jupyter's installation much easier :  \n",
    "We just need to pull Jupyter's docker image : `docker pull jupyter/datascience-notebook`"
   ]
  },
  {
   "cell_type": "markdown",
   "metadata": {},
   "source": [
    "## Launch Jupyter <a name=\"part5\"></a>\n",
    "Check that you have correctly pulled the jupyter image : `docker images`  \n",
    "Then run : `docker run -v /home/ubuntu:/home/jovyan -p80:8888 -d jupyter/datascience-notebook`"
   ]
  },
  {
   "cell_type": "markdown",
   "metadata": {},
   "source": [
    "## Access you Jupiter notebook from a browser <a name=\"part6\"></a>\n",
    "Open you browser and go to `ipAdressOfYourEC2Instance:80`  \n",
    "You will be asked a token / password which you can find by running :  \n",
    "`docker ps` to list all docker process running : find yours and copy it's id  \n",
    "Then run : `docker exec IdOfYourProcess jupyter notebook list"
   ]
  },
  {
   "attachments": {},
   "cell_type": "markdown",
   "metadata": {},
   "source": [
    "## How much does it cost ?\n",
    "\n",
    "The price of the EC2 instance depends its configuration which includes :\n",
    "\n",
    " * The type of machine : general, compute oriented, GPU, memory oriented\n",
    " * Number of vCPU - This indicates your ability to split your computation into pieces running simultaneously (paralel computing)\n",
    " * Memory size : the size of data you can perform computation on\n",
    " * Storage size\n",
    "You pay based on the time your instance is up - you can shut it down when you don't use it and will not be paying for this time.\n",
    "\n",
    "|Type | vCPU | Memory | Price per Hour (\\$)| Price per Month (\\$)|\n",
    "|----|----|------|--------------|----------------|\n",
    "|general | 1 | 2 | 0.023 | 6.6 |\n",
    "|general | 8 | 32 | 0.4 | 115 |\n",
    "|compute oriented | 4 | 61 | 0.9 | 259 |\n",
    "|compute oriented | 32 | 488 | 7.8 | 2074 |\n"
   ]
  },
  {
   "cell_type": "code",
   "execution_count": null,
   "metadata": {},
   "outputs": [],
   "source": []
  },
  {
   "cell_type": "code",
   "execution_count": null,
   "metadata": {},
   "outputs": [],
   "source": []
  }
 ],
 "metadata": {
  "kernelspec": {
   "display_name": "R",
   "language": "R",
   "name": "ir"
  },
  "language_info": {
   "codemirror_mode": "r",
   "file_extension": ".r",
   "mimetype": "text/x-r-source",
   "name": "R",
   "pygments_lexer": "r",
   "version": "3.3.2"
  }
 },
 "nbformat": 4,
 "nbformat_minor": 2
}
